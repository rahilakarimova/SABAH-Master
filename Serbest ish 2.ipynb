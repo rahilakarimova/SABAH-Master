{
  "nbformat": 4,
  "nbformat_minor": 0,
  "metadata": {
    "colab": {
      "name": "Untitled2.ipynb",
      "provenance": [],
      "authorship_tag": "ABX9TyPQ3VDvwD693eoW9ghRh9b/",
      "include_colab_link": true
    },
    "kernelspec": {
      "name": "python3",
      "display_name": "Python 3"
    },
    "language_info": {
      "name": "python"
    }
  },
  "cells": [
    {
      "cell_type": "markdown",
      "metadata": {
        "id": "view-in-github",
        "colab_type": "text"
      },
      "source": [
        "<a href=\"https://colab.research.google.com/github/rahilakarimova/SABAH-Master/blob/main/Serbest%20ish%202.ipynb\" target=\"_parent\"><img src=\"https://colab.research.google.com/assets/colab-badge.svg\" alt=\"Open In Colab\"/></a>"
      ]
    },
    {
      "cell_type": "code",
      "execution_count": 1,
      "metadata": {
        "colab": {
          "base_uri": "https://localhost:8080/"
        },
        "id": "6go1SIWHkmxw",
        "outputId": "c29a37e6-bf2d-46f0-84c4-6cfb2f5c400c"
      },
      "outputs": [
        {
          "output_type": "stream",
          "name": "stdout",
          "text": [
            "Collecting pulp\n",
            "  Downloading PuLP-2.6.0-py3-none-any.whl (14.2 MB)\n",
            "\u001b[K     |████████████████████████████████| 14.2 MB 8.4 MB/s \n",
            "\u001b[?25hInstalling collected packages: pulp\n",
            "Successfully installed pulp-2.6.0\n",
            "Status: 1\n",
            "Objective function= 3050.0\n",
            "x1 = 100.0\n",
            "x10 = 0.0\n",
            "x11 = 0.0\n",
            "x12 = 0.0\n",
            "x2 = 0.0\n",
            "x3 = 200.0\n",
            "x4 = 0.0\n",
            "x5 = 200.0\n",
            "x6 = 0.0\n",
            "x7 = 50.0\n",
            "x8 = 150.0\n",
            "x9 = 300.0\n"
          ]
        },
        {
          "output_type": "stream",
          "name": "stderr",
          "text": [
            "/usr/local/lib/python3.7/dist-packages/pulp/pulp.py:1352: UserWarning: Spaces are not permitted in the name. Converted to '_'\n",
            "  warnings.warn(\"Spaces are not permitted in the name. Converted to '_'\")\n"
          ]
        }
      ],
      "source": [
        "# PuLP modulunu yukleyin\n",
        "!pip install pulp\n",
        "\n",
        "# Optimallashdirma meselesinin hell olunmasi uchun Solveri yukleyin\n",
        "from pulp import*\n",
        "\n",
        "# Deyishenleri yaradin\n",
        "x1 = LpVariable(\"x1\", lowBound=0, cat=\"Integer\")\n",
        "x2 = LpVariable(\"x2\", lowBound=0, cat=\"Integer\")\n",
        "x3 = LpVariable(\"x3\", lowBound=0, cat=\"Integer\")\n",
        "x4 = LpVariable(\"x4\", lowBound=0, cat=\"Integer\")\n",
        "x5 = LpVariable(\"x5\", lowBound=0, cat=\"Integer\")\n",
        "x6 = LpVariable(\"x6\", lowBound=0, cat=\"Integer\")\n",
        "x7 = LpVariable(\"x7\", lowBound=0, cat=\"Integer\")\n",
        "x8 = LpVariable(\"x8\", lowBound=0, cat=\"Integer\")\n",
        "x9 = LpVariable(\"x9\", lowBound=0, cat=\"Integer\")\n",
        "x10 = LpVariable(\"x10\", lowBound=0, cat=\"Integer\")\n",
        "x11 = LpVariable(\"x11\", lowBound=0, cat=\"Integer\")\n",
        "x12 = LpVariable(\"x12\", lowBound=0, cat=\"Integer\")\n",
        "\n",
        "# Optimallashdirma meselesini yaradin\n",
        "Problem = LpProblem(\"Transshipment problem\", LpMinimize)\n",
        "\n",
        "# Meseleye meqsed funksiyasini elave edin\n",
        "Problem += 3*x1 + 2*x2 + 4*x3 + 3*x4 + 2.5*x5 + 3.5*x6 + 2*x7 + 1*x8 + 4*x9 + 3*x10 + 2*x11 + 5*x12\n",
        "\n",
        "# Mehdudiyyetleri elave edin\n",
        "# a) Menbe menteqeleri uzre mehdudiyyet shertleri\n",
        "Problem += x1 + x2 <= 100\n",
        "Problem += x3 + x4 <= 200\n",
        "Problem += x5 + x6 <= 200\n",
        "\n",
        "# b) Teyinat menteqeleri uzre mehdudiyyet shertleri\n",
        "Problem += x7 + x10 == 50\n",
        "Problem += x8 + x11 == 150\n",
        "Problem += x9 + x12 == 300\n",
        "\n",
        "# c) Tranzit menteqeleri uzre mehdudiyyet shertleri\n",
        "Problem += x1 + x3 + x5 - x7 - x8 - x9 == 0\n",
        "Problem += x2 + x4 + x6 - x10 - x11 - x12 == 0\n",
        "\n",
        "# Meseleni hell edin\n",
        "Problem.solve()\n",
        "\n",
        "# Hellin statusunu gosterin, bu hell optimaldirmi? Statusun kodlari ashagidakilardir:\n",
        "# “Optimal” - 1, “Not Solved” - 0, “Infeasible” = -1, “Unbounded” = -2, “Undefined” = -3\n",
        "print(\"Status:\", Problem.status)\n",
        "\n",
        "# Meqsed funksiyasini ekranda gosterin\n",
        "print(\"Objective function=\", value(Problem.objective))\n",
        "\n",
        "# Optimal helleri gosterin\n",
        "for s in Problem.variables():\n",
        "  print(s.name, \"=\", s.varValue)\n"
      ]
    }
  ]
}