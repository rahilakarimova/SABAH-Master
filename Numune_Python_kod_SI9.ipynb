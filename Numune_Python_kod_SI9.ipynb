{
  "nbformat": 4,
  "nbformat_minor": 0,
  "metadata": {
    "colab": {
      "name": "Numune Python kod SI9.ipynb",
      "provenance": [],
      "authorship_tag": "ABX9TyOCsF+SypYD9+ciex1D9F1F",
      "include_colab_link": true
    },
    "kernelspec": {
      "name": "python3",
      "display_name": "Python 3"
    },
    "language_info": {
      "name": "python"
    }
  },
  "cells": [
    {
      "cell_type": "markdown",
      "metadata": {
        "id": "view-in-github",
        "colab_type": "text"
      },
      "source": [
        "<a href=\"https://colab.research.google.com/github/rahilakarimova/SABAH-Master/blob/main/Numune_Python_kod_SI9.ipynb\" target=\"_parent\"><img src=\"https://colab.research.google.com/assets/colab-badge.svg\" alt=\"Open In Colab\"/></a>"
      ]
    },
    {
      "cell_type": "code",
      "execution_count": 4,
      "metadata": {
        "colab": {
          "base_uri": "https://localhost:8080/"
        },
        "id": "q0m20ST0EXca",
        "outputId": "b6ccc1f8-1b9a-4bb8-e3cc-be302286ef30"
      },
      "outputs": [
        {
          "output_type": "stream",
          "name": "stdout",
          "text": [
            "Collecting gurobipy\n",
            "  Downloading gurobipy-9.5.1-cp37-cp37m-manylinux2014_x86_64.whl (11.5 MB)\n",
            "\u001b[K     |████████████████████████████████| 11.5 MB 4.7 MB/s \n",
            "\u001b[?25hInstalling collected packages: gurobipy\n",
            "Successfully installed gurobipy-9.5.1\n",
            "Restricted license - for non-production use only - expires 2023-10-25\n",
            "Gurobi Optimizer version 9.5.1 build v9.5.1rc2 (linux64)\n",
            "Thread count: 1 physical cores, 2 logical processors, using up to 2 threads\n",
            "Optimize a model with 20 rows, 27 columns and 54 nonzeros\n",
            "Model fingerprint: 0x0939f503\n",
            "Variable types: 18 continuous, 9 integer (9 binary)\n",
            "Coefficient statistics:\n",
            "  Matrix range     [1e+00, 1e+00]\n",
            "  Objective range  [5e-01, 4e+00]\n",
            "  Bounds range     [1e+00, 1e+00]\n",
            "  RHS range        [1e+00, 1e+00]\n",
            "Presolve time: 0.00s\n",
            "Presolved: 20 rows, 27 columns, 54 nonzeros\n",
            "Variable types: 18 continuous, 9 integer (9 binary)\n",
            "Found heuristic solution: objective 6.0385165\n",
            "\n",
            "Root relaxation: objective 4.723713e+00, 15 iterations, 0.00 seconds (0.00 work units)\n",
            "\n",
            "    Nodes    |    Current Node    |     Objective Bounds      |     Work\n",
            " Expl Unexpl |  Obj  Depth IntInf | Incumbent    BestBd   Gap | It/Node Time\n",
            "\n",
            "*    0     0               0       4.7237129    4.72371  0.00%     -    0s\n",
            "\n",
            "Explored 1 nodes (15 simplex iterations) in 0.05 seconds (0.00 work units)\n",
            "Thread count was 2 (of 2 available processors)\n",
            "\n",
            "Solution count 2: 4.72371 6.03852 \n",
            "\n",
            "Optimal solution found (tolerance 1.00e-04)\n",
            "Best objective 4.723712908962e+00, best bound 4.723712908962e+00, gap 0.0000%\n",
            "\n",
            " Build a warehouse at location 4.\n",
            "\n",
            " Supermarket 1 receives 100.0 % of its demand  from Warehouse 4 .\n",
            "\n",
            " Supermarket 2 receives 100.0 % of its demand  from Warehouse 4 .\n"
          ]
        }
      ],
      "source": [
        "[ ]\n",
        "%pip install gurobipy\n",
        "[ ]\n",
        "from itertools import product\n",
        "from math import sqrt\n",
        "\n",
        "import gurobipy as gp\n",
        "from gurobipy import GRB\n",
        "\n",
        "# tested with Gurobi v9.1.0 and Python 3.7.0\n",
        "\n",
        "# Parameters\n",
        "customers = [(0,1.5), (2.5,1.2)]\n",
        "facilities = [(0,0), (0,1), (0,2), (1,0), (1,1), (1,2), (2,0), (2,1), (2,2)]\n",
        "setup_cost = [3,2,3,1,3,3,4,3,2]\n",
        "cost_per_mile = 1\n",
        "\n",
        "[ ]\n",
        "# This function determines the Euclidean distance between a facility and customer sites.\n",
        "\n",
        "def compute_distance(loc1, loc2):\n",
        "    dx = loc1[0] - loc2[0]\n",
        "    dy = loc1[1] - loc2[1]\n",
        "    return sqrt(dx*dx + dy*dy)\n",
        "\n",
        "# Compute key parameters of MIP model formulation\n",
        "\n",
        "num_facilities = len(facilities)\n",
        "num_customers = len(customers)\n",
        "cartesian_prod = list(product(range(num_customers), range(num_facilities)))\n",
        "\n",
        "# Compute shipping costs\n",
        "\n",
        "shipping_cost = {(c,f): cost_per_mile*compute_distance(customers[c], facilities[f]) for c, f in cartesian_prod}\n",
        "\n",
        "[ ]\n",
        "# MIP  model formulation\n",
        "\n",
        "m = gp.Model('facility_location')\n",
        "\n",
        "select = m.addVars(num_facilities, vtype=GRB.BINARY, name='Select')\n",
        "assign = m.addVars(cartesian_prod, ub=1, vtype=GRB.CONTINUOUS, name='Assign')\n",
        "\n",
        "m.addConstrs((assign[(c,f)] <= select[f] for c,f in cartesian_prod), name='Setup2ship')\n",
        "m.addConstrs((gp.quicksum(assign[(c,f)] for f in range(num_facilities)) == 1 for c in range(num_customers)), name='Demand')\n",
        "\n",
        "m.setObjective(select.prod(setup_cost)+assign.prod(shipping_cost), GRB.MINIMIZE)\n",
        "\n",
        "m.optimize()\n",
        "\n",
        "[ ]\n",
        "# display optimal values of decision variables\n",
        "\n",
        "for facility in select.keys():\n",
        "    if (abs(select[facility].x) > 1e-6):\n",
        "        print(f\"\\n Build a warehouse at location {facility + 1}.\")\n",
        "\n",
        "[ ]\n",
        "# Shipments from facilities to customers.\n",
        "\n",
        "for customer, facility in assign.keys():\n",
        "    if (abs(assign[customer, facility].x) > 1e-6):\n",
        "        print(f\"\\n Supermarket {customer + 1} receives {round(100*assign[customer, facility].x, 2)} % of its demand  from Warehouse {facility + 1} .\")\n",
        "\n",
        "\n"
      ]
    }
  ]
}